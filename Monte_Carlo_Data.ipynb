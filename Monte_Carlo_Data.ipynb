{
 "cells": [
  {
   "cell_type": "markdown",
   "id": "2f056551-31a6-4af9-8fb4-a128d3c90dfe",
   "metadata": {},
   "source": [
    "# Import Statements"
   ]
  },
  {
   "cell_type": "code",
   "execution_count": 1,
   "id": "615a39fb-527d-46f0-8800-f2ab7436963a",
   "metadata": {},
   "outputs": [],
   "source": [
    "import uproot\n",
    "import numpy as np\n",
    "import matplotlib.pyplot as plt"
   ]
  },
  {
   "cell_type": "markdown",
   "id": "fbff1e69-f8e3-4c15-af97-48a2a17a7582",
   "metadata": {},
   "source": [
    "# Opening the File to see the list of parameters"
   ]
  },
  {
   "cell_type": "code",
   "execution_count": 2,
   "id": "cf241013-f47f-49dd-993f-c9080a49f947",
   "metadata": {},
   "outputs": [
    {
     "name": "stdout",
     "output_type": "stream",
     "text": [
      "name                 | typename                 | interpretation                \n",
      "---------------------+--------------------------+-------------------------------\n",
      "rec.status           | uint64_t                 | AsDtype('>u8')\n",
      "rec.version          | uint64_t                 | AsDtype('>u8')\n",
      "rec.eventID          | uint64_t                 | AsDtype('>u8')\n",
      "rec.runID            | uint64_t                 | AsDtype('>u8')\n",
      "rec.timeSliceID      | uint64_t                 | AsDtype('>u8')\n",
      "rec.trigger_flags    | uint64_t                 | AsDtype('>u8')\n",
      "rec.event_flags      | uint64_t                 | AsDtype('>u8')\n",
      "rec.gtc_flags        | uint64_t                 | AsDtype('>u8')\n",
      "rec.gpsSec           | uint64_t                 | AsDtype('>u8')\n",
      "rec.gpsNanosec       | uint64_t                 | AsDtype('>u8')\n",
      "rec.nChTot           | uint64_t                 | AsDtype('>u8')\n",
      "rec.nChAvail         | uint64_t                 | AsDtype('>u8')\n",
      "rec.nHitTot          | uint64_t                 | AsDtype('>u8')\n",
      "rec.nHit             | uint64_t                 | AsDtype('>u8')\n",
      "rec.nHitSP10         | uint64_t                 | AsDtype('>u8')\n",
      "rec.nHitSP20         | uint64_t                 | AsDtype('>u8')\n",
      "rec.nTankTot         | uint64_t                 | AsDtype('>u8')\n",
      "rec.nTankAvail       | uint64_t                 | AsDtype('>u8')\n",
      "rec.nTankHitTot      | uint64_t                 | AsDtype('>u8')\n",
      "rec.nTankHit         | uint64_t                 | AsDtype('>u8')\n",
      "rec.windowHits       | uint64_t                 | AsDtype('>u8')\n",
      "rec.angleFitStatus   | uint64_t                 | AsDtype('>u8')\n",
      "rec.planeNDOF        | uint64_t                 | AsDtype('>u8')\n",
      "rec.coreFitStatus    | uint64_t                 | AsDtype('>u8')\n",
      "rec.CxPE40PMT        | uint64_t                 | AsDtype('>u8')\n",
      "rec.CxPE40XnCh       | uint64_t                 | AsDtype('>u8')\n",
      "rec.mPFnHits         | uint64_t                 | AsDtype('>u8')\n",
      "rec.mPFnPlanes       | uint64_t                 | AsDtype('>u8')\n",
      "rec.mPFp0nAssign     | uint64_t                 | AsDtype('>u8')\n",
      "rec.mPFp1nAssign     | uint64_t                 | AsDtype('>u8')\n",
      "rec.nHitMPF          | uint64_t                 | AsDtype('>u8')\n",
      "rec.coreFiduScale    | uint64_t                 | AsDtype('>u8')\n",
      "mc.corsikaParticleId | uint64_t                 | AsDtype('>u8')\n",
      "mc.coreFiduScale     | uint64_t                 | AsDtype('>u8')\n",
      "mc.status            | uint64_t                 | AsDtype('>u8')\n",
      "mc.prescale          | int64_t                  | AsDtype('>i8')\n",
      "sweets.oneWgt        | double                   | AsDtype('>f8')\n",
      "sweets.IWgt          | double                   | AsDtype('>f8')\n",
      "sweets.TWgt          | double                   | AsDtype('>f8')\n",
      "sweets.BWgt          | double                   | AsDtype('>f8')\n",
      "rec.zenithAngle      | double                   | AsDtype('>f8')\n",
      "rec.azimuthAngle     | double                   | AsDtype('>f8')\n",
      "rec.dec              | double                   | AsDtype('>f8')\n",
      "rec.ra               | double                   | AsDtype('>f8')\n",
      "rec.planeChi2        | double                   | AsDtype('>f8')\n",
      "rec.coreX            | double                   | AsDtype('>f8')\n",
      "rec.coreY            | double                   | AsDtype('>f8')\n",
      "rec.logCoreAmplitude | double                   | AsDtype('>f8')\n",
      "rec.coreFitUnc       | double                   | AsDtype('>f8')\n",
      "rec.logNNEnergy      | double                   | AsDtype('>f8')\n",
      "rec.fAnnulusCharge0  | double                   | AsDtype('>f8')\n",
      "rec.fAnnulusCharge1  | double                   | AsDtype('>f8')\n",
      "rec.fAnnulusCharge2  | double                   | AsDtype('>f8')\n",
      "rec.fAnnulusCharge3  | double                   | AsDtype('>f8')\n",
      "rec.fAnnulusCharge4  | double                   | AsDtype('>f8')\n",
      "rec.fAnnulusCharge5  | double                   | AsDtype('>f8')\n",
      "rec.fAnnulusCharge6  | double                   | AsDtype('>f8')\n",
      "rec.fAnnulusCharge7  | double                   | AsDtype('>f8')\n",
      "rec.fAnnulusCharge8  | double                   | AsDtype('>f8')\n",
      "rec.protonlheEnergy  | double                   | AsDtype('>f8')\n",
      "rec.protonlheLLH     | double                   | AsDtype('>f8')\n",
      "rec.gammalheEnergy   | double                   | AsDtype('>f8')\n",
      "rec.gammalheLLH      | double                   | AsDtype('>f8')\n",
      "rec.chargeFiduSca... | double                   | AsDtype('>f8')\n",
      "rec.chargeFiduSca... | double                   | AsDtype('>f8')\n",
      "rec.chargeFiduSca... | double                   | AsDtype('>f8')\n",
      "rec.logMaxPE         | double                   | AsDtype('>f8')\n",
      "rec.logNPE           | double                   | AsDtype('>f8')\n",
      "rec.CxPE40           | double                   | AsDtype('>f8')\n",
      "rec.CxPE40SPTime     | double                   | AsDtype('>f8')\n",
      "rec.LDFAge           | double                   | AsDtype('>f8')\n",
      "rec.LDFAmp           | double                   | AsDtype('>f8')\n",
      "rec.LDFChi2          | double                   | AsDtype('>f8')\n",
      "rec.logGP            | double                   | AsDtype('>f8')\n",
      "rec.mPFp0Weight      | double                   | AsDtype('>f8')\n",
      "rec.mPFp0toangleFit  | double                   | AsDtype('>f8')\n",
      "rec.mPFp1Weight      | double                   | AsDtype('>f8')\n",
      "rec.mPFp1toangleFit  | double                   | AsDtype('>f8')\n",
      "rec.PINC             | double                   | AsDtype('>f8')\n",
      "rec.disMax           | double                   | AsDtype('>f8')\n",
      "rec.TankLHR          | double                   | AsDtype('>f8')\n",
      "rec.sos              | double                   | AsDtype('>f8')\n",
      "rec.LHLatDistFitXmax | double                   | AsDtype('>f8')\n",
      "rec.LHLatDistFitE... | double                   | AsDtype('>f8')\n",
      "rec.LHLatDistFitGoF  | double                   | AsDtype('>f8')\n",
      "rec.probaGBT         | double                   | AsDtype('>f8')\n",
      "mc.radiusWeight      | double                   | AsDtype('>f8')\n",
      "mc.eventWeight       | double                   | AsDtype('>f8')\n",
      "mc.coreX             | double                   | AsDtype('>f8')\n",
      "mc.coreY             | double                   | AsDtype('>f8')\n",
      "mc.coreR             | double                   | AsDtype('>f8')\n",
      "mc.zenithAngle       | double                   | AsDtype('>f8')\n",
      "mc.azimuthAngle      | double                   | AsDtype('>f8')\n",
      "mc.delCore           | double                   | AsDtype('>f8')\n",
      "mc.delAngle          | double                   | AsDtype('>f8')\n",
      "mc.logEnergy         | double                   | AsDtype('>f8')\n",
      "mc.logGroundEnergy   | double                   | AsDtype('>f8')\n",
      "mc.Xmax              | double                   | AsDtype('>f8')\n"
     ]
    }
   ],
   "source": [
    "pass5file = '/home/rykore/pass5.1/2.63_3.45e-11_1000000_35_1.0_combined_rec.root'\n",
    "\n",
    "with uproot.open(pass5file) as file:\n",
    "    t = file['XCDF']\n",
    "    t.show() "
   ]
  },
  {
   "cell_type": "markdown",
   "id": "3636bbff-a652-4302-9898-8ca3541ad888",
   "metadata": {},
   "source": [
    "# Redefining variables based on what is needed"
   ]
  },
  {
   "cell_type": "code",
   "execution_count": 3,
   "id": "fe8cd257-37d0-4237-9fa7-23b1925a8b15",
   "metadata": {},
   "outputs": [],
   "source": [
    "dset = dict()\n",
    "\n",
    "with uproot.open(pass5file) as file:\n",
    "    t = file['XCDF']\n",
    "    dset[\"zenithAngle\"] = t[\"rec.zenithAngle\"].array(library=\"np\")\n",
    "    dset[\"azimuthAngle\"] = t[\"rec.azimuthAngle\"].array(library=\"np\")\n",
    "    dset[\"nHit\"] = t[\"rec.nHit\"].array(library=\"np\")\n",
    "    dset[\"protonlheEnergy\"] = t[\"rec.protonlheEnergy\"].array(library=\"np\")\n",
    "    dset[\"PINC\"] = t[\"rec.PINC\"].array(library=\"np\")\n",
    "    dset[\"CxPE40XnCh\"] = t[\"rec.CxPE40XnCh\"].array(library=\"np\") \n",
    "    dset[\"angleFitStatus\"] = t[\"rec.angleFitStatus\"].array(library=\"np\")\n",
    "    dset[\"coreFitStatus\"] = t[\"rec.coreFitStatus\"].array(library=\"np\")\n",
    "    # fit status of the reconstruction, 0 meaning successfull and != 0 means unsuccessful\n",
    "    dset[\"cuts\"] = np.logical_and(dset[\"angleFitStatus\"] == 0, dset[\"coreFitStatus\"] == 0)\n",
    "    dset[\"corsikaParticleId\"] = t[\"mc.corsikaParticleId\"].array(library=\"np\")\n",
    "    dset[\"weights\"] = t[\"sweets.IWgt\"].array(library=\"np\")\n",
    "    # corsikaParticleId != 1 - Excludes gamma rays\n",
    "    dset[\"cuts\"] = np.logical_and(dset[\"cuts\"] , dset[\"corsikaParticleId\"]!=1 )\n",
    "    dset[\"logEnergy\"] = t[\"mc.logEnergy\"].array(library=\"np\")"
   ]
  },
  {
   "cell_type": "code",
   "execution_count": 4,
   "id": "d64552d3-0232-48a9-97bc-dff4800ca6cb",
   "metadata": {},
   "outputs": [
    {
     "data": {
      "image/png": "[encoded data removed]",
      "text/plain": [
       "<Figure size 640x480 with 1 Axes>"
      ]
     },
     "metadata": {},
     "output_type": "display_data"
    }
   ],
   "source": [
    "# adding weights - gives the simulated data a weight to make it closer to the actual data\n",
    "plt.hist(dset[\"logEnergy\"][dset[\"cuts\"]], bins = 70, log=True, weights = dset[\"weights\"][dset[\"cuts\"]])\n",
    "plt.show()"
   ]
  },
  {
   "cell_type": "code",
   "execution_count": 21,
   "id": "9cfeca2e-25dc-4591-9734-5926d7c7a931",
   "metadata": {},
   "outputs": [],
   "source": [
    "initial_cuts = dset[\"cuts\"]\n",
    "zenith_angle = dset[\"zenithAngle\"][initial_cuts]\n",
    "log_E = dset[\"logEnergy\"][initial_cuts]\n",
    "weights = dset[\"weights\"][initial_cuts]"
   ]
  },
  {
   "cell_type": "code",
   "execution_count": 6,
   "id": "b2a204e2-b97a-4a2b-9444-9c70235b5286",
   "metadata": {},
   "outputs": [
    {
     "name": "stdout",
     "output_type": "stream",
     "text": [
      "8438332\n",
      "8438332\n"
     ]
    }
   ],
   "source": [
    "print(len(log_E))\n",
    "print(len(weights))"
   ]
  },
  {
   "cell_type": "markdown",
   "id": "3dd245b5-b290-4020-a344-d6ba48de2eb8",
   "metadata": {},
   "source": [
    "# Cutting and binning the Energy"
   ]
  },
  {
   "cell_type": "code",
   "execution_count": 7,
   "id": "c4df5756-631f-4d63-9eb8-ee21e9f6c2bf",
   "metadata": {},
   "outputs": [],
   "source": [
    "cut1 = np.logical_and(log_E >= np.log(1),log_E < np.log(10))\n",
    "cut2 = np.logical_and(log_E >= np.log(10),log_E < np.log(30))\n",
    "cut3 = np.logical_and(log_E >= np.log(30),log_E < np.log(50))\n",
    "cut4 = np.logical_and(log_E >= np.log(50),log_E <= np.log(100))"
   ]
  },
  {
   "cell_type": "code",
   "execution_count": 8,
   "id": "d71f3513-f00e-4aa9-a060-29478b34bbd9",
   "metadata": {},
   "outputs": [],
   "source": [
    "energy_cut1 = log_E[cut1]\n",
    "energy_cut2 = log_E[cut2]\n",
    "energy_cut3 = log_E[cut3]\n",
    "energy_cut4 = log_E[cut4]\n",
    "\n",
    "energies = [energy_cut1, energy_cut2, energy_cut3, energy_cut4]"
   ]
  },
  {
   "cell_type": "code",
   "execution_count": 9,
   "id": "3bad4af5-a308-42a0-adb3-c3572b2c72c8",
   "metadata": {},
   "outputs": [],
   "source": [
    "weights_cut1 = weights[cut1]\n",
    "weights_cut2 = weights[cut2]\n",
    "weights_cut3 = weights[cut3]\n",
    "weights_cut4 = weights[cut4]\n",
    "\n",
    "weights_array = [weights_cut1, weights_cut2, weights_cut3, weights_cut4]"
   ]
  },
  {
   "cell_type": "code",
   "execution_count": 22,
   "id": "1c05c855-b555-40af-9c22-44f31a9b54fa",
   "metadata": {},
   "outputs": [],
   "source": [
    "zenith_cut1 = zenith_angle[cut1]\n",
    "zenith_cut2 = zenith_angle[cut2]\n",
    "zenith_cut3 = zenith_angle[cut3]\n",
    "zenith_cut4 = zenith_angle[cut4]\n",
    "\n",
    "zenith_array = [zenith_cut1, zenith_cut2, zenith_cut3, zenith_cut4]"
   ]
  },
  {
   "cell_type": "markdown",
   "id": "926dbf9c-2fc9-4260-be6d-3395299855d8",
   "metadata": {},
   "source": [
    "# Weighted Quantile function\n",
    "#### input:\n",
    "values = log_E  \\\n",
    "quantiles = \\[0.341, 0.841\\] (array of what quantiles of the data you need) \\\n",
    "sample_weight = weights (apply cuts on weights as well so that the dimensions of both the arrays remain the same) \\\n",
    "values_sorted (if False, will sort the returned array)\n",
    "#### output:\n",
    "an interpolated array having the same dimensions as the quantiles array from the input that has the weighted values in the data at those specified quantiles"
   ]
  },
  {
   "cell_type": "code",
   "execution_count": 11,
   "id": "1c508add-8b33-43c7-8f28-394091366a67",
   "metadata": {},
   "outputs": [],
   "source": [
    "def weighted_quantile(values, quantiles, sample_weight=None, \n",
    "                      values_sorted=False, old_style=False):\n",
    "    \"\"\" \n",
    "    Very close to numpy.percentile, but supports weights.\n",
    "    NOTE: quantiles should be in [0, 1]!\n",
    "\n",
    "    :param values: numpy.array with data\n",
    "    :param quantiles: array-like with many quantiles needed\n",
    "    :param sample_weight: array-like of the same length as `array`\n",
    "    :param values_sorted: bool, if True, then will avoid sorting of\n",
    "        initial array\n",
    "    :param old_style: if True, will correct output to be consistent\n",
    "        with numpy.percentile.\n",
    "    :return: numpy.array with computed quantiles.\n",
    "\n",
    "    \"\"\"\n",
    "    values = np.array(values)\n",
    "    quantiles = np.array(quantiles)\n",
    "    if sample_weight is None:\n",
    "        sample_weight = np.ones(len(values))\n",
    "    sample_weight = np.array(sample_weight)\n",
    "    assert np.all(quantiles >= 0) and np.all(quantiles <= 1), \\\n",
    "        'quantiles should be in [0, 1]'\n",
    "\n",
    "    if not values_sorted:\n",
    "        sorter = np.argsort(values)\n",
    "        values = values[sorter]\n",
    "        sample_weight = sample_weight[sorter]\n",
    "\n",
    "    weighted_quantiles = np.cumsum(sample_weight) - 0.5 * sample_weight\n",
    "    if old_style:\n",
    "        # To be convenient with numpy.percentile\n",
    "        weighted_quantiles -= weighted_quantiles[0]\n",
    "        weighted_quantiles /= weighted_quantiles[-1]\n",
    "    else:\n",
    "        weighted_quantiles /= np.sum(sample_weight)\n",
    "    return np.interp(quantiles, weighted_quantiles, values)"
   ]
  },
  {
   "cell_type": "markdown",
   "id": "1ffefbe6-2b4d-4ec5-b961-6826406d8cc3",
   "metadata": {},
   "source": [
    "# Binning the zenith angle"
   ]
  },
  {
   "cell_type": "code",
   "execution_count": 27,
   "id": "6a6ddd00-aa31-44ca-a0aa-9e057c68c1ac",
   "metadata": {},
   "outputs": [
    {
     "name": "stdout",
     "output_type": "stream",
     "text": [
      "[1.00000000e-04 1.74632925e-01 3.49165850e-01 5.23698776e-01\n",
      " 6.98231701e-01 8.72764626e-01 1.04729755e+00 1.22183048e+00\n",
      " 1.39636340e+00]\n"
     ]
    }
   ],
   "source": [
    "# 180 degrees divided into 18 bins with each bin being 10 degrees\n",
    "deltaz = np.radians(10)\n",
    "zbins = np.arange(min(zenith_angle),max(zenith_angle), deltaz)\n",
    "print(zbins)"
   ]
  },
  {
   "cell_type": "code",
   "execution_count": 28,
   "id": "e210fa41-cba8-49ed-99b2-54be2025a4ba",
   "metadata": {},
   "outputs": [
    {
     "name": "stdout",
     "output_type": "stream",
     "text": [
      "239446\n"
     ]
    }
   ],
   "source": [
    "print(len(zenith_cut1))"
   ]
  },
  {
   "cell_type": "code",
   "execution_count": 46,
   "id": "c8d14281-9b31-4734-99a2-c27d4c1f00dc",
   "metadata": {},
   "outputs": [
    {
     "name": "stdout",
     "output_type": "stream",
     "text": [
      "1.427\n"
     ]
    }
   ],
   "source": [
    "yerr = weighted_quantile(energy_cut1, 0.159, sample_weight = weights_cut1)\n",
    "print(yerr)"
   ]
  },
  {
   "cell_type": "markdown",
   "id": "23f62b73-be73-4c82-9a67-cfdd0e1cf7c3",
   "metadata": {},
   "source": [
    "# Plotting the average energy vs zenith angle"
   ]
  },
  {
   "cell_type": "code",
   "execution_count": 51,
   "id": "7a828c24-94bf-4bd1-afa4-8dc6f08d2337",
   "metadata": {},
   "outputs": [
    {
     "data": {
      "image/png": "[encoded data removed]",
      "text/plain": [
       "<Figure size 700x400 with 1 Axes>"
      ]
     },
     "metadata": {},
     "output_type": "display_data"
    },
    {
     "data": {
      "image/png": "[encoded data removed]",
      "text/plain": [
       "<Figure size 700x400 with 1 Axes>"
      ]
     },
     "metadata": {},
     "output_type": "display_data"
    },
    {
     "data": {
      "image/png": "[encoded data removed]",
      "text/plain": [
       "<Figure size 700x400 with 1 Axes>"
      ]
     },
     "metadata": {},
     "output_type": "display_data"
    },
    {
     "data": {
      "image/png": "[encoded data removed]",
      "text/plain": [
       "<Figure size 700x400 with 1 Axes>"
      ]
     },
     "metadata": {},
     "output_type": "display_data"
    }
   ],
   "source": [
    "for energy, weight, zenith in zip(energies, weights_array, zenith_array):\n",
    "    \n",
    "    fig, ax = plt.subplots(figsize=(7, 4))\n",
    "    \n",
    "    for z in zbins:\n",
    "        zmin = z\n",
    "        zmax = z + deltaz\n",
    "        zcut = np.logical_and(zenith >= zmin, zenith <= zmax)\n",
    "        avg_energy = np.average(energy[zcut], weights = weight[zcut])\n",
    "        \n",
    "        upper_quantile = weighted_quantile(energy[zcut], 0.841 , sample_weight = weight[zcut])\n",
    "        lower_quantile = weighted_quantile(energy[zcut], 0.159 , sample_weight = weight[zcut])\n",
    "\n",
    "        err_upper = upper_quantile - avg_energy\n",
    "        err_lower = avg_energy - lower_quantile\n",
    "        \n",
    "        ax.errorbar(z, avg_energy, yerr = [[err_lower], [err_upper]] , fmt = 'o', markersize = 8)\n",
    "        \n",
    "    plt.show()"
   ]
  },
  {
   "cell_type": "code",
   "execution_count": 52,
   "id": "5a4a4f52-5949-4866-a219-22293dffa3db",
   "metadata": {},
   "outputs": [
    {
     "data": {
      "image/png": "[encoded data removed]",
      "text/plain": [
       "<Figure size 700x400 with 1 Axes>"
      ]
     },
     "metadata": {},
     "output_type": "display_data"
    }
   ],
   "source": [
    "# sample for one\n",
    "fig, ax = plt.subplots(figsize=(7, 4))\n",
    "\n",
    "for z in zbins:\n",
    "    zmin = z\n",
    "    zmax = z + deltaz\n",
    "    zcut = np.logical_and(zenith_cut1 >= zmin, zenith_cut1 <= zmax)\n",
    "    avg_energy = np.average(energy_cut1[zcut], weights = weights_cut1[zcut])\n",
    "    yerr = weighted_quantile(energy_cut1[zcut], [0.341, 0.841], sample_weight = weights_cut1[zcut])\n",
    "    ax.errorbar(z, avg_energy, yerr = yerr[0],  marker='o', markersize = 8)\n",
    "    ax.errorbar(z, avg_energy, yerr = yerr[1],  marker='o', markersize = 8)\n",
    "\n",
    "plt.show()"
   ]
  },
  {
   "cell_type": "code",
   "execution_count": null,
   "id": "bbc1bf5b-3291-48d8-acc4-ca91b6b4d4ec",
   "metadata": {},
   "outputs": [],
   "source": []
  }
 ],
 "metadata": {
  "kernelspec": {
   "display_name": "Personal Kernel With UPROOT",
   "language": "python",
   "name": "custom_kernel"
  },
  "language_info": {
   "codemirror_mode": {
    "name": "ipython",
    "version": 3
   },
   "file_extension": ".py",
   "mimetype": "text/x-python",
   "name": "python",
   "nbconvert_exporter": "python",
   "pygments_lexer": "ipython3",
   "version": "3.11.3"
  }
 },
 "nbformat": 4,
 "nbformat_minor": 5
}
